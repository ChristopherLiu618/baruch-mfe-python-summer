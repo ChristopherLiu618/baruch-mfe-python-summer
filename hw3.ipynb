{
 "cells": [
  {
   "cell_type": "markdown",
   "metadata": {},
   "source": [
    "# Homework 3\n",
    "*Edited by Yibang (Christopher) Liu, 8/8*"
   ]
  },
  {
   "cell_type": "markdown",
   "metadata": {},
   "source": [
    "## Question 1\n",
    "Read the code below and rewrite it using only numpy functions (without for loop, if-else statements). Benchmark your implementation. How much is it faster than the naive python implementation? (hint: use np.isin)\n",
    "\n",
    "```python\n",
    "def func1(names, db):\n",
    "    idx = []\n",
    "    for i in names:\n",
    "        if i in db:\n",
    "            idx.append(db.index(i))\n",
    "    return idx\n",
    "```"
   ]
  },
  {
   "cell_type": "code",
   "execution_count": 1,
   "metadata": {},
   "outputs": [],
   "source": [
    "import numpy as np"
   ]
  },
  {
   "cell_type": "code",
   "execution_count": 2,
   "metadata": {},
   "outputs": [],
   "source": [
    "def myfunc1(names, db):\n",
    "    names = np.array(names)\n",
    "    db = list(db)\n",
    "    return np.frompyfunc(db.index, 1, 1)(names[np.isin(names, db)])"
   ]
  },
  {
   "cell_type": "code",
   "execution_count": 3,
   "metadata": {},
   "outputs": [],
   "source": [
    "# This can also be a substitution of the original function when:\n",
    "# 1. No repetition occurs in names;\n",
    "# 2. We don't care about the sequence of the output.\n",
    "def myfunc2(names, db):\n",
    "    return np.arange(len(db))[np.isin(db, names)]"
   ]
  },
  {
   "cell_type": "code",
   "execution_count": 4,
   "metadata": {},
   "outputs": [],
   "source": [
    "def func1(names, db):\n",
    "    idx = []\n",
    "    for i in names:\n",
    "        if i in db:\n",
    "            idx.append(db.index(i))\n",
    "    return idx"
   ]
  },
  {
   "cell_type": "code",
   "execution_count": 5,
   "metadata": {},
   "outputs": [
    {
     "name": "stdout",
     "output_type": "stream",
     "text": [
      "[0, 1, 1, 0, 0, 1]\n",
      "[0 1 1 0 0 1]\n",
      "[0 1]\n"
     ]
    }
   ],
   "source": [
    "#Test case 1\n",
    "names1 = [1,2,3,4,5, 5,4,3,2,1, 1,2,3,4,5]\n",
    "db1 = [2,5]\n",
    "\n",
    "print(func1(names1, db1))\n",
    "print(myfunc1(names1, db1))\n",
    "print(myfunc2(names1, db1))"
   ]
  },
  {
   "cell_type": "code",
   "execution_count": 6,
   "metadata": {},
   "outputs": [
    {
     "name": "stdout",
     "output_type": "stream",
     "text": [
      "5.16 ms ± 29.4 µs per loop (mean ± std. dev. of 7 runs, 100 loops each)\n",
      "1.69 ms ± 33.5 µs per loop (mean ± std. dev. of 7 runs, 1000 loops each)\n",
      "140 µs ± 3.93 µs per loop (mean ± std. dev. of 7 runs, 10000 loops each)\n"
     ]
    }
   ],
   "source": [
    "#Test case 2\n",
    "names2 = list(range(1000))\n",
    "db2 = list(range(500))\n",
    "\n",
    "%timeit func1(names2, db2)\n",
    "%timeit myfunc1(names2, db2)\n",
    "%timeit myfunc2(names2, db2)"
   ]
  },
  {
   "cell_type": "markdown",
   "metadata": {},
   "source": [
    "## Question 2\n",
    "Use only numpy functions (without for loop, if-else statements) to find the largest 3 distances between points if either points is inside the circle of\n",
    "raidus r0. Then return these points.\n",
    "\n",
    "```python\n",
    ">>> coordinates = np.array(\n",
    "[[0.968, 0.313],\n",
    " [0.692, 0.876],\n",
    " [0.895, 0.085],\n",
    " [0.039, 0.17 ],\n",
    " [0.878, 0.098]]\n",
    ")\n",
    ">>> cirle_r0 = 0.9\n",
    ">>> print(search_pairs(coordinates, cirle_r0))\n",
    "\n",
    "# The indices of the relevant points in the original coordinates\n",
    "[[2 1]\n",
    " [3 0]\n",
    " [3 1]]\n",
    "```\n"
   ]
  },
  {
   "cell_type": "code",
   "execution_count": 7,
   "metadata": {},
   "outputs": [],
   "source": [
    "def search_pairs(coordinates, r0):\n",
    "    # Distances between every two points.\n",
    "    pair_dists = np.linalg.norm(coordinates[:, np.newaxis, :] - coordinates, axis = 2)\n",
    "    # Mask: whether the point is inside the circle.\n",
    "    points_in_r0 = np.linalg.norm(coordinates, axis = 1) < r0\n",
    "    # Mask: for every pair of points, whether either point is inside the circle.\n",
    "    mask_r0 = points_in_r0[:, np.newaxis] ^ points_in_r0\n",
    "    # Only the lower half of matrices would be used to avoid repetition.\n",
    "    mask_uniq_dists = np.tril(np.ones_like(mask_r0), k = -1)\n",
    "    # Masked distances.\n",
    "    uniq_dists = pair_dists[mask_r0 & mask_uniq_dists]\n",
    "    # Return the points.\n",
    "    return np.argwhere(mask_r0 & mask_uniq_dists)[np.argpartition(uniq_dists, -3)[-3:]]"
   ]
  },
  {
   "cell_type": "code",
   "execution_count": 8,
   "metadata": {},
   "outputs": [
    {
     "name": "stdout",
     "output_type": "stream",
     "text": [
      "[[2 1]\n",
      " [3 0]\n",
      " [3 1]]\n"
     ]
    }
   ],
   "source": [
    "coordinates = np.array(\n",
    "[[0.968, 0.313],\n",
    " [0.692, 0.876],\n",
    " [0.895, 0.085],\n",
    " [0.039, 0.17 ],\n",
    " [0.878, 0.098]]\n",
    ")\n",
    "cirle_r0 = 0.9\n",
    "print(search_pairs(coordinates, cirle_r0))"
   ]
  },
  {
   "cell_type": "code",
   "execution_count": null,
   "metadata": {},
   "outputs": [],
   "source": []
  }
 ],
 "metadata": {
  "kernelspec": {
   "display_name": "Python 3",
   "language": "python",
   "name": "python3"
  },
  "language_info": {
   "codemirror_mode": {
    "name": "ipython",
    "version": 3
   },
   "file_extension": ".py",
   "mimetype": "text/x-python",
   "name": "python",
   "nbconvert_exporter": "python",
   "pygments_lexer": "ipython3",
   "version": "3.7.6"
  }
 },
 "nbformat": 4,
 "nbformat_minor": 4
}
