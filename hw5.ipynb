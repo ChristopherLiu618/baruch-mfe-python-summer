{
 "cells": [
  {
   "cell_type": "markdown",
   "metadata": {},
   "source": [
    "# Homework 5\n",
    "*Edited by Yibang (Christopher) Liu, 8/22*"
   ]
  },
  {
   "cell_type": "markdown",
   "metadata": {},
   "source": [
    "# Question 1 Algorithmic questions"
   ]
  },
  {
   "cell_type": "markdown",
   "metadata": {},
   "source": [
    "Find the kth largest element in an unsorted array. Note that it is the kth largest element in the sorted order, not the kth distinct element."
   ]
  },
  {
   "cell_type": "markdown",
   "metadata": {},
   "source": [
    "## Examples:"
   ]
  },
  {
   "cell_type": "markdown",
   "metadata": {},
   "source": [
    "* Input: [3,2,1,5,6,4] and k = 2\n",
    "\n",
    "* Output: 5"
   ]
  },
  {
   "cell_type": "markdown",
   "metadata": {},
   "source": [
    "* Input: [3,2,3,1,2,4,5,5,6] and k = 4\n",
    "* Output: 4"
   ]
  },
  {
   "cell_type": "markdown",
   "metadata": {},
   "source": [
    "You may assume k is always valid, 1 ≤ k ≤ array's length."
   ]
  },
  {
   "cell_type": "markdown",
   "metadata": {},
   "source": [
    "To receive full credit, you should do the following:\n",
    "\n",
    "* Develop several test cases and explain why you choose these test cases\n",
    "* Wrap your solution into a function.\n",
    "* Analyze the time complexity of your algorithm."
   ]
  },
  {
   "cell_type": "markdown",
   "metadata": {},
   "source": [
    "Hint: You should use heapq to solve the question, but you should not use heapq.nlargest."
   ]
  },
  {
   "cell_type": "code",
   "execution_count": 1,
   "metadata": {},
   "outputs": [],
   "source": [
    "import heapq\n",
    "\n",
    "def k_largest(nums, k):\n",
    "    if k > len(nums) or k < 1:\n",
    "        raise IndexError(\"k out of range or empty array\")\n",
    "    \n",
    "    # Heapify the first k elements of the array\n",
    "    heap = nums[:k]\n",
    "    heapq.heapify(heap)\n",
    "    \n",
    "    # For every element, substitute it for the heap root\n",
    "    # if it's larger and maintain the heap\n",
    "    for num in nums[k:]:\n",
    "        heapq.heappushpop(heap, num)\n",
    "    \n",
    "    # Heap root is the kth largest element\n",
    "    return heap[0]"
   ]
  },
  {
   "cell_type": "markdown",
   "metadata": {},
   "source": [
    "* Time complexity of the solution:\n",
    "    * Heapify the first k elements: O(k)\n",
    "    * Compare and replace for (n-k) elements: O((n-k)logk)\n",
    "    * Total time complexity: O(k) + O((n-k)logk)\n",
    "    * When k << n: O(nlogk)\n",
    "    * When k very close to n: O(n)"
   ]
  },
  {
   "cell_type": "code",
   "execution_count": 2,
   "metadata": {},
   "outputs": [
    {
     "ename": "IndexError",
     "evalue": "k out of range or empty array",
     "output_type": "error",
     "traceback": [
      "\u001b[1;31m---------------------------------------------------------------------------\u001b[0m",
      "\u001b[1;31mIndexError\u001b[0m                                Traceback (most recent call last)",
      "\u001b[1;32m<ipython-input-2-71dc0c9a2a04>\u001b[0m in \u001b[0;36m<module>\u001b[1;34m\u001b[0m\n\u001b[0;32m      3\u001b[0m \u001b[0mnums\u001b[0m \u001b[1;33m=\u001b[0m \u001b[1;33m[\u001b[0m\u001b[1;36m1\u001b[0m\u001b[1;33m]\u001b[0m\u001b[1;33m\u001b[0m\u001b[1;33m\u001b[0m\u001b[0m\n\u001b[0;32m      4\u001b[0m \u001b[0mk\u001b[0m \u001b[1;33m=\u001b[0m \u001b[1;36m2\u001b[0m\u001b[1;33m\u001b[0m\u001b[1;33m\u001b[0m\u001b[0m\n\u001b[1;32m----> 5\u001b[1;33m \u001b[0mk_largest\u001b[0m\u001b[1;33m(\u001b[0m\u001b[0mnums\u001b[0m\u001b[1;33m,\u001b[0m \u001b[0mk\u001b[0m\u001b[1;33m)\u001b[0m\u001b[1;33m\u001b[0m\u001b[1;33m\u001b[0m\u001b[0m\n\u001b[0m",
      "\u001b[1;32m<ipython-input-1-6357abdc6c2b>\u001b[0m in \u001b[0;36mk_largest\u001b[1;34m(nums, k)\u001b[0m\n\u001b[0;32m      3\u001b[0m \u001b[1;32mdef\u001b[0m \u001b[0mk_largest\u001b[0m\u001b[1;33m(\u001b[0m\u001b[0mnums\u001b[0m\u001b[1;33m,\u001b[0m \u001b[0mk\u001b[0m\u001b[1;33m)\u001b[0m\u001b[1;33m:\u001b[0m\u001b[1;33m\u001b[0m\u001b[1;33m\u001b[0m\u001b[0m\n\u001b[0;32m      4\u001b[0m     \u001b[1;32mif\u001b[0m \u001b[0mk\u001b[0m \u001b[1;33m>\u001b[0m \u001b[0mlen\u001b[0m\u001b[1;33m(\u001b[0m\u001b[0mnums\u001b[0m\u001b[1;33m)\u001b[0m \u001b[1;32mor\u001b[0m \u001b[0mk\u001b[0m \u001b[1;33m<\u001b[0m \u001b[1;36m1\u001b[0m\u001b[1;33m:\u001b[0m\u001b[1;33m\u001b[0m\u001b[1;33m\u001b[0m\u001b[0m\n\u001b[1;32m----> 5\u001b[1;33m         \u001b[1;32mraise\u001b[0m \u001b[0mIndexError\u001b[0m\u001b[1;33m(\u001b[0m\u001b[1;34m\"k out of range or empty array\"\u001b[0m\u001b[1;33m)\u001b[0m\u001b[1;33m\u001b[0m\u001b[1;33m\u001b[0m\u001b[0m\n\u001b[0m\u001b[0;32m      6\u001b[0m \u001b[1;33m\u001b[0m\u001b[0m\n\u001b[0;32m      7\u001b[0m     \u001b[1;31m# Heapify the first k elements of the array\u001b[0m\u001b[1;33m\u001b[0m\u001b[1;33m\u001b[0m\u001b[1;33m\u001b[0m\u001b[0m\n",
      "\u001b[1;31mIndexError\u001b[0m: k out of range or empty array"
     ]
    }
   ],
   "source": [
    "# Test case 1\n",
    "# Invalid k\n",
    "nums = [1]\n",
    "k = 2\n",
    "k_largest(nums, k)"
   ]
  },
  {
   "cell_type": "code",
   "execution_count": 3,
   "metadata": {},
   "outputs": [
    {
     "name": "stdout",
     "output_type": "stream",
     "text": [
      "5\n",
      "5\n"
     ]
    }
   ],
   "source": [
    "# Test case 2\n",
    "# All elements distinct\n",
    "nums = [3,2,1,5,6,4]\n",
    "k = 2\n",
    "print(k_largest(nums, k))\n",
    "print(heapq.nlargest(k, nums)[-1])"
   ]
  },
  {
   "cell_type": "code",
   "execution_count": 4,
   "metadata": {},
   "outputs": [
    {
     "name": "stdout",
     "output_type": "stream",
     "text": [
      "3\n",
      "3\n"
     ]
    }
   ],
   "source": [
    "# Test case 3\n",
    "# Multiple kth largest elements exist\n",
    "nums = [3,2,3,1,2,3,5,5,6]\n",
    "k = 4\n",
    "print(k_largest(nums, k))\n",
    "print(heapq.nlargest(k, nums)[-1])"
   ]
  },
  {
   "cell_type": "code",
   "execution_count": 5,
   "metadata": {},
   "outputs": [
    {
     "name": "stdout",
     "output_type": "stream",
     "text": [
      "0\n",
      "0\n"
     ]
    }
   ],
   "source": [
    "# Test case 4\n",
    "# Edge case: 1 element\n",
    "nums = [0]\n",
    "k = 1\n",
    "print(k_largest(nums, k))\n",
    "print(heapq.nlargest(k, nums)[-1])"
   ]
  },
  {
   "cell_type": "code",
   "execution_count": 6,
   "metadata": {},
   "outputs": [
    {
     "name": "stdout",
     "output_type": "stream",
     "text": [
      "97857\n",
      "97857\n"
     ]
    }
   ],
   "source": [
    "# Test case 5\n",
    "# Large case\n",
    "import random\n",
    "\n",
    "nums = [random.randint(1, 100000) for i in range(10000)]\n",
    "k = 200\n",
    "print(k_largest(nums, k))\n",
    "print(heapq.nlargest(k, nums)[-1])"
   ]
  },
  {
   "cell_type": "markdown",
   "metadata": {},
   "source": [
    "# Question 2 Multithreading pop."
   ]
  },
  {
   "cell_type": "markdown",
   "metadata": {},
   "source": [
    "Using python data structure Queue, generate a queue that have 10000 elments. Then use 1, 5, 20 threads to pop out the elments out. Compare the efficiency when you use different number of threads and explain why you see the pattern of performance."
   ]
  },
  {
   "cell_type": "code",
   "execution_count": 7,
   "metadata": {},
   "outputs": [],
   "source": [
    "from queue import Queue\n",
    "\n",
    "def init_queue(n):\n",
    "    q = Queue()\n",
    "    for i in range(n):\n",
    "        q.put(i)\n",
    "    return q"
   ]
  },
  {
   "cell_type": "code",
   "execution_count": 8,
   "metadata": {},
   "outputs": [
    {
     "name": "stdout",
     "output_type": "stream",
     "text": [
      "Wall time: 15 ms\n",
      "Wall time: 15 ms\n",
      "Wall time: 16 ms\n"
     ]
    }
   ],
   "source": [
    "from threading import Thread, Lock\n",
    "import time\n",
    "\n",
    "def multithread_pure_pop(q, thread_num):\n",
    "    thread_group = []\n",
    "    \n",
    "    def pop_item(q_, n):\n",
    "        while n:\n",
    "            n -= 1\n",
    "            q_.get()\n",
    "    \n",
    "    for i in range(thread_num):\n",
    "        t = Thread(target=pop_item, args=(q, 10000 // thread_num))\n",
    "        thread_group.append(t)\n",
    "        t.start()\n",
    "    \n",
    "    for t in thread_group:\n",
    "        t.join()\n",
    "\n",
    "q = init_queue(10000)\n",
    "%time multithread_pure_pop(q, 1)\n",
    "q = init_queue(10000)\n",
    "%time multithread_pure_pop(q, 5)\n",
    "q = init_queue(10000)\n",
    "%time multithread_pure_pop(q, 20)"
   ]
  },
  {
   "cell_type": "code",
   "execution_count": 9,
   "metadata": {},
   "outputs": [
    {
     "name": "stdout",
     "output_type": "stream",
     "text": [
      "Wall time: 19.9 s\n",
      "Wall time: 3.99 s\n",
      "Wall time: 999 ms\n"
     ]
    }
   ],
   "source": [
    "def multithread_computation(q, thread_num):\n",
    "    thread_group = []\n",
    "    lock = Lock()\n",
    "    \n",
    "    def pop_item(q_):\n",
    "        while True:\n",
    "            # Lock is needed to ensure that no elements are popped\n",
    "            # by other threads between empty() and get()\n",
    "            lock.acquire()\n",
    "            if not q_.empty():\n",
    "                q_.get()\n",
    "                lock.release()\n",
    "            else:\n",
    "                lock.release()\n",
    "                break\n",
    "            # Simulating computation based on the popped element\n",
    "            time.sleep(0.001) # The smallest sleeping time we can do\n",
    "    \n",
    "    for i in range(thread_num):\n",
    "        t = Thread(target=pop_item, args=(q,))\n",
    "        thread_group.append(t)\n",
    "        t.start()\n",
    "    \n",
    "    for t in thread_group:\n",
    "        t.join()\n",
    "\n",
    "q = init_queue(10000)\n",
    "%time multithread_computation(q, 1)\n",
    "q = init_queue(10000)\n",
    "%time multithread_computation(q, 5)\n",
    "q = init_queue(10000)\n",
    "%time multithread_computation(q, 20)"
   ]
  },
  {
   "cell_type": "markdown",
   "metadata": {},
   "source": [
    "* For pure pop without computation, time consumption doesn't vary a lot when the number of threads increases, this is because:\n",
    "    * Queue is thread safe and Python uses GIL, meaning that the get(block=True) action cannot be performed simultaniously by multiple threads;\n",
    "    * Overhead is not to be neglected since get() is a pretty light task.\n",
    "\n",
    "* For pop with computation that doesn't involve memory share, multithreading accelerates the process, and the wall time is roughly inversely proportional to the thread number."
   ]
  }
 ],
 "metadata": {
  "kernelspec": {
   "display_name": "Python 3",
   "language": "python",
   "name": "python3"
  },
  "language_info": {
   "codemirror_mode": {
    "name": "ipython",
    "version": 3
   },
   "file_extension": ".py",
   "mimetype": "text/x-python",
   "name": "python",
   "nbconvert_exporter": "python",
   "pygments_lexer": "ipython3",
   "version": "3.7.6"
  }
 },
 "nbformat": 4,
 "nbformat_minor": 2
}
